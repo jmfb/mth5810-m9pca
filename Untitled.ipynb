{
 "cells": [
  {
   "cell_type": "code",
   "execution_count": 1,
   "id": "342b0651-58db-4c26-a2bd-2ff0e419fcf3",
   "metadata": {},
   "outputs": [],
   "source": [
    "import numpy as np\n",
    "import pandas as pd"
   ]
  },
  {
   "cell_type": "code",
   "execution_count": 2,
   "id": "bbe4a4cc-72bd-4c3b-bce0-28aa69f466f7",
   "metadata": {},
   "outputs": [
    {
     "data": {
      "text/html": [
       "<div>\n",
       "<style scoped>\n",
       "    .dataframe tbody tr th:only-of-type {\n",
       "        vertical-align: middle;\n",
       "    }\n",
       "\n",
       "    .dataframe tbody tr th {\n",
       "        vertical-align: top;\n",
       "    }\n",
       "\n",
       "    .dataframe thead th {\n",
       "        text-align: right;\n",
       "    }\n",
       "</style>\n",
       "<table border=\"1\" class=\"dataframe\">\n",
       "  <thead>\n",
       "    <tr style=\"text-align: right;\">\n",
       "      <th></th>\n",
       "      <th>Point</th>\n",
       "      <th>x</th>\n",
       "      <th>y</th>\n",
       "      <th>z</th>\n",
       "    </tr>\n",
       "  </thead>\n",
       "  <tbody>\n",
       "    <tr>\n",
       "      <th>0</th>\n",
       "      <td>A</td>\n",
       "      <td>2.5</td>\n",
       "      <td>2.4</td>\n",
       "      <td>3.5</td>\n",
       "    </tr>\n",
       "    <tr>\n",
       "      <th>1</th>\n",
       "      <td>B</td>\n",
       "      <td>0.5</td>\n",
       "      <td>0.7</td>\n",
       "      <td>1.5</td>\n",
       "    </tr>\n",
       "    <tr>\n",
       "      <th>2</th>\n",
       "      <td>C</td>\n",
       "      <td>2.2</td>\n",
       "      <td>2.9</td>\n",
       "      <td>3.7</td>\n",
       "    </tr>\n",
       "    <tr>\n",
       "      <th>3</th>\n",
       "      <td>D</td>\n",
       "      <td>1.9</td>\n",
       "      <td>2.2</td>\n",
       "      <td>3.0</td>\n",
       "    </tr>\n",
       "    <tr>\n",
       "      <th>4</th>\n",
       "      <td>E</td>\n",
       "      <td>3.1</td>\n",
       "      <td>3.0</td>\n",
       "      <td>4.0</td>\n",
       "    </tr>\n",
       "    <tr>\n",
       "      <th>5</th>\n",
       "      <td>F</td>\n",
       "      <td>2.3</td>\n",
       "      <td>2.7</td>\n",
       "      <td>3.2</td>\n",
       "    </tr>\n",
       "    <tr>\n",
       "      <th>6</th>\n",
       "      <td>G</td>\n",
       "      <td>2.0</td>\n",
       "      <td>1.6</td>\n",
       "      <td>2.7</td>\n",
       "    </tr>\n",
       "    <tr>\n",
       "      <th>7</th>\n",
       "      <td>H</td>\n",
       "      <td>1.0</td>\n",
       "      <td>1.1</td>\n",
       "      <td>1.9</td>\n",
       "    </tr>\n",
       "    <tr>\n",
       "      <th>8</th>\n",
       "      <td>I</td>\n",
       "      <td>1.5</td>\n",
       "      <td>1.6</td>\n",
       "      <td>2.5</td>\n",
       "    </tr>\n",
       "    <tr>\n",
       "      <th>9</th>\n",
       "      <td>J</td>\n",
       "      <td>1.1</td>\n",
       "      <td>0.9</td>\n",
       "      <td>2.0</td>\n",
       "    </tr>\n",
       "  </tbody>\n",
       "</table>\n",
       "</div>"
      ],
      "text/plain": [
       "  Point    x    y    z\n",
       "0     A  2.5  2.4  3.5\n",
       "1     B  0.5  0.7  1.5\n",
       "2     C  2.2  2.9  3.7\n",
       "3     D  1.9  2.2  3.0\n",
       "4     E  3.1  3.0  4.0\n",
       "5     F  2.3  2.7  3.2\n",
       "6     G  2.0  1.6  2.7\n",
       "7     H  1.0  1.1  1.9\n",
       "8     I  1.5  1.6  2.5\n",
       "9     J  1.1  0.9  2.0"
      ]
     },
     "execution_count": 2,
     "metadata": {},
     "output_type": "execute_result"
    }
   ],
   "source": [
    "pd = pd.read_csv('./m9-pca.csv')\n",
    "pd"
   ]
  },
  {
   "cell_type": "code",
   "execution_count": 3,
   "id": "9abdc8e8-8550-45c6-a270-ad408997bcc0",
   "metadata": {},
   "outputs": [
    {
     "name": "stdout",
     "output_type": "stream",
     "text": [
      "n = 10\n",
      "mean\n",
      "x    1.81\n",
      "y    1.91\n",
      "z    2.80\n",
      "dtype: float64\n"
     ]
    }
   ],
   "source": [
    "n = pd.shape[0]\n",
    "print(f\"n = {n}\")\n",
    "mean = pd[['x', 'y', 'z']].mean()\n",
    "print(f\"mean\\n{mean}\")"
   ]
  },
  {
   "cell_type": "code",
   "execution_count": 4,
   "id": "05747ccb-f841-4432-9366-e6ce7d031b8b",
   "metadata": {},
   "outputs": [
    {
     "data": {
      "text/html": [
       "<div>\n",
       "<style scoped>\n",
       "    .dataframe tbody tr th:only-of-type {\n",
       "        vertical-align: middle;\n",
       "    }\n",
       "\n",
       "    .dataframe tbody tr th {\n",
       "        vertical-align: top;\n",
       "    }\n",
       "\n",
       "    .dataframe thead th {\n",
       "        text-align: right;\n",
       "    }\n",
       "</style>\n",
       "<table border=\"1\" class=\"dataframe\">\n",
       "  <thead>\n",
       "    <tr style=\"text-align: right;\">\n",
       "      <th></th>\n",
       "      <th>Point</th>\n",
       "      <th>x</th>\n",
       "      <th>y</th>\n",
       "      <th>z</th>\n",
       "      <th>cx</th>\n",
       "      <th>cy</th>\n",
       "      <th>cz</th>\n",
       "    </tr>\n",
       "  </thead>\n",
       "  <tbody>\n",
       "    <tr>\n",
       "      <th>0</th>\n",
       "      <td>A</td>\n",
       "      <td>2.5</td>\n",
       "      <td>2.4</td>\n",
       "      <td>3.5</td>\n",
       "      <td>0.69</td>\n",
       "      <td>0.49</td>\n",
       "      <td>0.7</td>\n",
       "    </tr>\n",
       "    <tr>\n",
       "      <th>1</th>\n",
       "      <td>B</td>\n",
       "      <td>0.5</td>\n",
       "      <td>0.7</td>\n",
       "      <td>1.5</td>\n",
       "      <td>-1.31</td>\n",
       "      <td>-1.21</td>\n",
       "      <td>-1.3</td>\n",
       "    </tr>\n",
       "    <tr>\n",
       "      <th>2</th>\n",
       "      <td>C</td>\n",
       "      <td>2.2</td>\n",
       "      <td>2.9</td>\n",
       "      <td>3.7</td>\n",
       "      <td>0.39</td>\n",
       "      <td>0.99</td>\n",
       "      <td>0.9</td>\n",
       "    </tr>\n",
       "    <tr>\n",
       "      <th>3</th>\n",
       "      <td>D</td>\n",
       "      <td>1.9</td>\n",
       "      <td>2.2</td>\n",
       "      <td>3.0</td>\n",
       "      <td>0.09</td>\n",
       "      <td>0.29</td>\n",
       "      <td>0.2</td>\n",
       "    </tr>\n",
       "    <tr>\n",
       "      <th>4</th>\n",
       "      <td>E</td>\n",
       "      <td>3.1</td>\n",
       "      <td>3.0</td>\n",
       "      <td>4.0</td>\n",
       "      <td>1.29</td>\n",
       "      <td>1.09</td>\n",
       "      <td>1.2</td>\n",
       "    </tr>\n",
       "    <tr>\n",
       "      <th>5</th>\n",
       "      <td>F</td>\n",
       "      <td>2.3</td>\n",
       "      <td>2.7</td>\n",
       "      <td>3.2</td>\n",
       "      <td>0.49</td>\n",
       "      <td>0.79</td>\n",
       "      <td>0.4</td>\n",
       "    </tr>\n",
       "    <tr>\n",
       "      <th>6</th>\n",
       "      <td>G</td>\n",
       "      <td>2.0</td>\n",
       "      <td>1.6</td>\n",
       "      <td>2.7</td>\n",
       "      <td>0.19</td>\n",
       "      <td>-0.31</td>\n",
       "      <td>-0.1</td>\n",
       "    </tr>\n",
       "    <tr>\n",
       "      <th>7</th>\n",
       "      <td>H</td>\n",
       "      <td>1.0</td>\n",
       "      <td>1.1</td>\n",
       "      <td>1.9</td>\n",
       "      <td>-0.81</td>\n",
       "      <td>-0.81</td>\n",
       "      <td>-0.9</td>\n",
       "    </tr>\n",
       "    <tr>\n",
       "      <th>8</th>\n",
       "      <td>I</td>\n",
       "      <td>1.5</td>\n",
       "      <td>1.6</td>\n",
       "      <td>2.5</td>\n",
       "      <td>-0.31</td>\n",
       "      <td>-0.31</td>\n",
       "      <td>-0.3</td>\n",
       "    </tr>\n",
       "    <tr>\n",
       "      <th>9</th>\n",
       "      <td>J</td>\n",
       "      <td>1.1</td>\n",
       "      <td>0.9</td>\n",
       "      <td>2.0</td>\n",
       "      <td>-0.71</td>\n",
       "      <td>-1.01</td>\n",
       "      <td>-0.8</td>\n",
       "    </tr>\n",
       "  </tbody>\n",
       "</table>\n",
       "</div>"
      ],
      "text/plain": [
       "  Point    x    y    z    cx    cy   cz\n",
       "0     A  2.5  2.4  3.5  0.69  0.49  0.7\n",
       "1     B  0.5  0.7  1.5 -1.31 -1.21 -1.3\n",
       "2     C  2.2  2.9  3.7  0.39  0.99  0.9\n",
       "3     D  1.9  2.2  3.0  0.09  0.29  0.2\n",
       "4     E  3.1  3.0  4.0  1.29  1.09  1.2\n",
       "5     F  2.3  2.7  3.2  0.49  0.79  0.4\n",
       "6     G  2.0  1.6  2.7  0.19 -0.31 -0.1\n",
       "7     H  1.0  1.1  1.9 -0.81 -0.81 -0.9\n",
       "8     I  1.5  1.6  2.5 -0.31 -0.31 -0.3\n",
       "9     J  1.1  0.9  2.0 -0.71 -1.01 -0.8"
      ]
     },
     "execution_count": 4,
     "metadata": {},
     "output_type": "execute_result"
    }
   ],
   "source": [
    "pd['cx'] = pd.x - mean.x\n",
    "pd['cy'] = pd.y - mean.y\n",
    "pd['cz'] = pd.z - mean.z\n",
    "pd"
   ]
  },
  {
   "cell_type": "code",
   "execution_count": 5,
   "id": "a1577987-5788-4651-8613-b6c62fff30a6",
   "metadata": {},
   "outputs": [
    {
     "data": {
      "text/plain": [
       "array([[0.61655556, 0.61544444, 0.63      ],\n",
       "       [0.61544444, 0.71655556, 0.68333333],\n",
       "       [0.63      , 0.68333333, 0.68666667]])"
      ]
     },
     "execution_count": 5,
     "metadata": {},
     "output_type": "execute_result"
    }
   ],
   "source": [
    "BT = pd[['cx', 'cy', 'cz']].to_numpy()\n",
    "B = BT.T\n",
    "S = np.matmul(B, BT) / (n - 1)\n",
    "S"
   ]
  },
  {
   "cell_type": "code",
   "execution_count": 6,
   "id": "ddd10f5f-2bca-4552-830a-fd6554115603",
   "metadata": {},
   "outputs": [
    {
     "name": "stdout",
     "output_type": "stream",
     "text": [
      "Eigenvalues = [1.96159229 0.04908344 0.00910205]\n",
      "Eigenvectors\n",
      "[[-0.54775637 -0.73559796 -0.3985707 ]\n",
      " [-0.5940851   0.67741787 -0.43378327]\n",
      " [-0.589089    0.00082264  0.80806774]]\n"
     ]
    }
   ],
   "source": [
    "eigenvalues, eigenvectors = np.linalg.eig(S)\n",
    "print(f\"Eigenvalues = {eigenvalues}\")\n",
    "print(f\"Eigenvectors\\n{eigenvectors}\")"
   ]
  },
  {
   "cell_type": "code",
   "execution_count": 7,
   "id": "e1db1414-dadf-4f52-a960-1d4cb42a0af6",
   "metadata": {},
   "outputs": [
    {
     "data": {
      "text/plain": [
       "array([[-0.54775637, -0.5940851 ],\n",
       "       [-0.73559796,  0.67741787],\n",
       "       [-0.3985707 , -0.43378327]])"
      ]
     },
     "execution_count": 7,
     "metadata": {},
     "output_type": "execute_result"
    }
   ],
   "source": [
    "v1 = eigenvectors[0]\n",
    "v2 = eigenvectors[1]\n",
    "VT = np.vstack((v1, v2))\n",
    "V = VT.T\n",
    "V"
   ]
  },
  {
   "cell_type": "code",
   "execution_count": 8,
   "id": "c63e15b7-3ed4-4b70-a203-5eae059d590e",
   "metadata": {},
   "outputs": [
    {
     "data": {
      "text/plain": [
       "(2, 2)"
      ]
     },
     "execution_count": 8,
     "metadata": {},
     "output_type": "execute_result"
    }
   ],
   "source": [
    "VTV = np.matmul(VT, V)\n",
    "VTV.shape"
   ]
  },
  {
   "cell_type": "code",
   "execution_count": 9,
   "id": "f0403d7c-5f97-4649-8430-6df33a33980f",
   "metadata": {},
   "outputs": [
    {
     "data": {
      "text/plain": [
       "(2, 3)"
      ]
     },
     "execution_count": 9,
     "metadata": {},
     "output_type": "execute_result"
    }
   ],
   "source": [
    "IV = np.matmul(np.linalg.inv(VTV), VT)\n",
    "IV.shape"
   ]
  },
  {
   "cell_type": "code",
   "execution_count": 10,
   "id": "cc6ef78a-5d1d-413e-918d-25b62a68d3ab",
   "metadata": {},
   "outputs": [
    {
     "data": {
      "text/plain": [
       "(3, 3)"
      ]
     },
     "execution_count": 10,
     "metadata": {},
     "output_type": "execute_result"
    }
   ],
   "source": [
    "P = np.matmul(V, IV)\n",
    "P.shape"
   ]
  },
  {
   "cell_type": "code",
   "execution_count": 11,
   "id": "6b82e1b7-1cdf-49c0-be23-4cdedd69c962",
   "metadata": {},
   "outputs": [
    {
     "data": {
      "text/plain": [
       "array([[ 6.52974147e-01,  4.84609543e-04,  4.76023818e-01],\n",
       "       [ 4.84609543e-04,  9.99999323e-01, -6.64750717e-04],\n",
       "       [ 4.76023818e-01, -6.64750717e-04,  3.47026530e-01]])"
      ]
     },
     "execution_count": 11,
     "metadata": {},
     "output_type": "execute_result"
    }
   ],
   "source": [
    "P"
   ]
  },
  {
   "cell_type": "code",
   "execution_count": 15,
   "id": "66a4623a-41ea-43ca-8b46-f085d193aad3",
   "metadata": {},
   "outputs": [
    {
     "data": {
      "text/plain": [
       "(3, 10)"
      ]
     },
     "execution_count": 15,
     "metadata": {},
     "output_type": "execute_result"
    }
   ],
   "source": [
    "XT = pd[['cx', 'cy', 'cz']].to_numpy().T\n",
    "U = np.matmul(P, XT)\n",
    "U.shape"
   ]
  },
  {
   "cell_type": "code",
   "execution_count": 17,
   "id": "bed2a717-4bc3-4cee-8be6-38cf8a317f22",
   "metadata": {},
   "outputs": [
    {
     "data": {
      "text/plain": [
       "array([[ 0.78400629,  0.48986872,  0.57104928],\n",
       "       [-1.47481347, -1.20976984, -1.07392134],\n",
       "       [ 0.68356112,  0.98959005,  0.49731506],\n",
       "       [ 0.15411297,  0.28991047,  0.11205467],\n",
       "       [ 1.41409346,  1.08982671,  1.02977798],\n",
       "       [ 0.5107497 ,  0.78997102,  0.37153713],\n",
       "       [ 0.07631248, -0.30984124,  0.05594795],\n",
       "       [-0.95772303, -0.80979371, -0.69736472],\n",
       "       [-0.34537936, -0.30995059, -0.25146927],\n",
       "       [-0.84492015, -1.00981159, -0.61492674]])"
      ]
     },
     "execution_count": 17,
     "metadata": {},
     "output_type": "execute_result"
    }
   ],
   "source": [
    "U.T"
   ]
  },
  {
   "cell_type": "code",
   "execution_count": null,
   "id": "46117f71-7083-423c-9255-e2387ca310dd",
   "metadata": {},
   "outputs": [],
   "source": []
  }
 ],
 "metadata": {
  "kernelspec": {
   "display_name": "Python 3 (ipykernel)",
   "language": "python",
   "name": "python3"
  },
  "language_info": {
   "codemirror_mode": {
    "name": "ipython",
    "version": 3
   },
   "file_extension": ".py",
   "mimetype": "text/x-python",
   "name": "python",
   "nbconvert_exporter": "python",
   "pygments_lexer": "ipython3",
   "version": "3.12.1"
  }
 },
 "nbformat": 4,
 "nbformat_minor": 5
}
